{
 "cells": [
  {
   "cell_type": "code",
   "execution_count": null,
   "id": "3a2ecb7c-73a5-4c70-9a30-f7e180b320f3",
   "metadata": {},
   "outputs": [],
   "source": [
    "import tkinter as tk\n",
    "from tkinter import messagebox\n",
    "\n",
    "class ToDoApp:\n",
    "    def __init__(self, root):\n",
    "        self.root = root\n",
    "        self.root.title(\"To-Do List App\")\n",
    "        self.root.geometry(\"400x400\")\n",
    "\n",
    "        self.frame = tk.Frame(root)\n",
    "        self.frame.pack(pady=10)\n",
    "\n",
    "        self.listbox = tk.Listbox(self.frame, width=40, height=12)\n",
    "        self.listbox.pack(side=tk.LEFT)\n",
    "\n",
    "        self.scrollbar = tk.Scrollbar(self.frame)\n",
    "        self.scrollbar.pack(side=tk.RIGHT, fill=tk.Y)\n",
    "\n",
    "        self.listbox.config(yscrollcommand=self.scrollbar.set)\n",
    "        self.scrollbar.config(command=self.listbox.yview)\n",
    "\n",
    "        self.entry = tk.Entry(root, width=43)\n",
    "        self.entry.pack(pady=10)\n",
    "\n",
    "        self.add_btn = tk.Button(root, text=\"Add Task\", width=42, command=self.add_task)\n",
    "        self.add_btn.pack(pady=5)\n",
    "\n",
    "        self.del_btn = tk.Button(root, text=\"Delete Task\", width=42, command=self.delete_task)\n",
    "        self.del_btn.pack(pady=5)\n",
    "\n",
    "    def add_task(self):\n",
    "        task = self.entry.get().strip()\n",
    "        if task:\n",
    "            self.listbox.insert(tk.END, task)\n",
    "            self.entry.delete(0, tk.END)\n",
    "        else:\n",
    "            messagebox.showwarning(\"Warning\", \"Please enter a task.\")\n",
    "\n",
    "    def delete_task(self):\n",
    "        try:\n",
    "            selected_index = self.listbox.curselection()[0]\n",
    "            self.listbox.delete(selected_index)\n",
    "        except IndexError:\n",
    "            messagebox.showwarning(\"Warning\", \"Please select a task to delete.\")\n",
    "\n",
    "if __name__ == \"__main__\":\n",
    "    root = tk.Tk()\n",
    "    app = ToDoApp(root)\n",
    "    root.mainloop()\n"
   ]
  },
  {
   "cell_type": "code",
   "execution_count": null,
   "id": "b72040fc-8971-4094-8072-ee56f72f33e0",
   "metadata": {},
   "outputs": [],
   "source": []
  }
 ],
 "metadata": {
  "kernelspec": {
   "display_name": "Python 3 (ipykernel)",
   "language": "python",
   "name": "python3"
  },
  "language_info": {
   "codemirror_mode": {
    "name": "ipython",
    "version": 3
   },
   "file_extension": ".py",
   "mimetype": "text/x-python",
   "name": "python",
   "nbconvert_exporter": "python",
   "pygments_lexer": "ipython3",
   "version": "3.13.5"
  }
 },
 "nbformat": 4,
 "nbformat_minor": 5
}
